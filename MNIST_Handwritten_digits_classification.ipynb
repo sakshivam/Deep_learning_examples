{
  "nbformat": 4,
  "nbformat_minor": 0,
  "metadata": {
    "colab": {
      "provenance": [],
      "authorship_tag": "ABX9TyMGGCTsNu+1T/2Sn1GDvAQX",
      "include_colab_link": true
    },
    "kernelspec": {
      "name": "python3",
      "display_name": "Python 3"
    },
    "language_info": {
      "name": "python"
    }
  },
  "cells": [
    {
      "cell_type": "markdown",
      "metadata": {
        "id": "view-in-github",
        "colab_type": "text"
      },
      "source": [
        "<a href=\"https://colab.research.google.com/github/sakshivam/Deep_learning_examples/blob/main/MNIST_Handwritten_digits_classification.ipynb\" target=\"_parent\"><img src=\"https://colab.research.google.com/assets/colab-badge.svg\" alt=\"Open In Colab\"/></a>"
      ]
    },
    {
      "cell_type": "markdown",
      "source": [
        "## Importing Required Libraries"
      ],
      "metadata": {
        "id": "4Fq0EumU74rS"
      }
    },
    {
      "cell_type": "code",
      "execution_count": 2,
      "metadata": {
        "id": "KUlE9apheEMx"
      },
      "outputs": [],
      "source": [
        "import tensorflow as tf\n",
        "from tensorflow import keras\n",
        "import matplotlib.pyplot as plt\n",
        "%matplotlib inline\n",
        "import numpy as np\n",
        "import seaborn as sns"
      ]
    },
    {
      "cell_type": "markdown",
      "source": [
        "## Loading the MNIST dataset with 0-9 handwritten digit images"
      ],
      "metadata": {
        "id": "OtDfb_Az79b4"
      }
    },
    {
      "cell_type": "code",
      "source": [
        "(X_train, y_train), (X_test, y_test) = keras.datasets.mnist.load_data()\n",
        "print(\"X_train length i.e no. of images :\",len(X_train))\n",
        "print(\"X_test length :\",len(X_test))"
      ],
      "metadata": {
        "colab": {
          "base_uri": "https://localhost:8080/"
        },
        "id": "t9jtLqYoesb_",
        "outputId": "010a1d46-e454-4b4c-ac94-323bddb51397"
      },
      "execution_count": 3,
      "outputs": [
        {
          "output_type": "stream",
          "name": "stdout",
          "text": [
            "Downloading data from https://storage.googleapis.com/tensorflow/tf-keras-datasets/mnist.npz\n",
            "11490434/11490434 [==============================] - 0s 0us/step\n",
            "X_train length i.e no. of images : 60000\n",
            "X_test length : 10000\n"
          ]
        }
      ]
    },
    {
      "cell_type": "code",
      "source": [
        "print(\"Shape of an image:\", X_train[0].shape)"
      ],
      "metadata": {
        "colab": {
          "base_uri": "https://localhost:8080/"
        },
        "id": "osBSBmjOfUVb",
        "outputId": "017a9a09-a62c-4067-b568-30f2b676ba2f"
      },
      "execution_count": 4,
      "outputs": [
        {
          "output_type": "stream",
          "name": "stdout",
          "text": [
            "Shape of an image: (28, 28)\n"
          ]
        }
      ]
    },
    {
      "cell_type": "code",
      "source": [
        "#Now plotting any one image randomly using matplotlib.pyplot\n",
        "plt.matshow(X_train[11])"
      ],
      "metadata": {
        "colab": {
          "base_uri": "https://localhost:8080/",
          "height": 454
        },
        "id": "Beq6EaD7f5DE",
        "outputId": "1689bd8e-754f-461a-e565-01fe38edb4ed"
      },
      "execution_count": 5,
      "outputs": [
        {
          "output_type": "execute_result",
          "data": {
            "text/plain": [
              "<matplotlib.image.AxesImage at 0x7bcf184f5690>"
            ]
          },
          "metadata": {},
          "execution_count": 5
        },
        {
          "output_type": "display_data",
          "data": {
            "text/plain": [
              "<Figure size 480x480 with 1 Axes>"
            ],
            "image/png": "[encoded data removed]"
          },
          "metadata": {}
        }
      ]
    },
    {
      "cell_type": "code",
      "source": [
        "plt.matshow(X_train[2])"
      ],
      "metadata": {
        "colab": {
          "base_uri": "https://localhost:8080/",
          "height": 454
        },
        "id": "Dm4c3xFygjQj",
        "outputId": "d184c7d3-d48d-431a-a83e-9f0c6c527395"
      },
      "execution_count": 6,
      "outputs": [
        {
          "output_type": "execute_result",
          "data": {
            "text/plain": [
              "<matplotlib.image.AxesImage at 0x7bcf16409390>"
            ]
          },
          "metadata": {},
          "execution_count": 6
        },
        {
          "output_type": "display_data",
          "data": {
            "text/plain": [
              "<Figure size 480x480 with 1 Axes>"
            ],
            "image/png": "[encoded data removed]"
          },
          "metadata": {}
        }
      ]
    },
    {
      "cell_type": "code",
      "source": [
        "y_train[2]"
      ],
      "metadata": {
        "colab": {
          "base_uri": "https://localhost:8080/"
        },
        "id": "WgmkIVNngwey",
        "outputId": "be22752e-4905-44f9-a40a-ddb69466c6f1"
      },
      "execution_count": 7,
      "outputs": [
        {
          "output_type": "execute_result",
          "data": {
            "text/plain": [
              "4"
            ]
          },
          "metadata": {},
          "execution_count": 7
        }
      ]
    },
    {
      "cell_type": "markdown",
      "source": [
        "## Scaling X_train and X_test"
      ],
      "metadata": {
        "id": "oNHbOfJ78M5X"
      }
    },
    {
      "cell_type": "code",
      "source": [
        "X_train = X_train/255\n",
        "X_test = X_test/255"
      ],
      "metadata": {
        "id": "UyS4OINblKDb"
      },
      "execution_count": 8,
      "outputs": []
    },
    {
      "cell_type": "markdown",
      "source": [
        "## Flattening data"
      ],
      "metadata": {
        "id": "OYM2gGX58Snd"
      }
    },
    {
      "cell_type": "code",
      "source": [
        "#Flattening an image\n",
        "X_train_flattened = X_train.reshape(len(X_train), 28*28)\n",
        "X_test_flattened = X_test.reshape(len(X_test), 28*28)\n",
        "\n",
        "print(\"Flattened X_train shape: \", X_train_flattened.shape)\n",
        "print(\"Flattened X_test shape: \", X_test_flattened.shape)"
      ],
      "metadata": {
        "colab": {
          "base_uri": "https://localhost:8080/"
        },
        "id": "5fMsMWLvhT4D",
        "outputId": "4f497a3d-3f03-4554-ccf6-bf8e8c771f37"
      },
      "execution_count": 9,
      "outputs": [
        {
          "output_type": "stream",
          "name": "stdout",
          "text": [
            "Flattened X_train shape:  (60000, 784)\n",
            "Flattened X_test shape:  (10000, 784)\n"
          ]
        }
      ]
    },
    {
      "cell_type": "markdown",
      "source": [
        "## Building Neural Network"
      ],
      "metadata": {
        "id": "6t2d7U7-7uD7"
      }
    },
    {
      "cell_type": "code",
      "source": [
        "# creating a neural network with one input layer and defining 10 outputs with activation function as sigmoid\n",
        "model = keras.Sequential([\n",
        "    keras.layers.Dense(10, input_shape = (784,), activation = 'sigmoid')\n",
        "])\n",
        "model.compile(\n",
        "    optimizer='adam',\n",
        "    loss='sparse_categorical_crossentropy',\n",
        "    metrics=['accuracy']\n",
        ")\n",
        "model.fit(X_train_flattened,y_train, epochs=5)"
      ],
      "metadata": {
        "colab": {
          "base_uri": "https://localhost:8080/"
        },
        "id": "fPjbmSpjh8-b",
        "outputId": "6584a4cf-63e1-4a68-a952-fcd068de3ec8"
      },
      "execution_count": 10,
      "outputs": [
        {
          "output_type": "stream",
          "name": "stdout",
          "text": [
            "Epoch 1/5\n",
            "1875/1875 [==============================] - 8s 4ms/step - loss: 0.4696 - accuracy: 0.8767\n",
            "Epoch 2/5\n",
            "1875/1875 [==============================] - 5s 3ms/step - loss: 0.3034 - accuracy: 0.9150\n",
            "Epoch 3/5\n",
            "1875/1875 [==============================] - 5s 2ms/step - loss: 0.2832 - accuracy: 0.9214\n",
            "Epoch 4/5\n",
            "1875/1875 [==============================] - 5s 3ms/step - loss: 0.2730 - accuracy: 0.9232\n",
            "Epoch 5/5\n",
            "1875/1875 [==============================] - 4s 2ms/step - loss: 0.2665 - accuracy: 0.9266\n"
          ]
        },
        {
          "output_type": "execute_result",
          "data": {
            "text/plain": [
              "<keras.src.callbacks.History at 0x7bcf1b9954b0>"
            ]
          },
          "metadata": {},
          "execution_count": 10
        }
      ]
    },
    {
      "cell_type": "code",
      "source": [
        "model.evaluate(X_test_flattened, y_test)"
      ],
      "metadata": {
        "colab": {
          "base_uri": "https://localhost:8080/"
        },
        "id": "Pp9_ekUHlidp",
        "outputId": "01e9658d-dcfc-4212-c565-6c548cc44e7b"
      },
      "execution_count": 11,
      "outputs": [
        {
          "output_type": "stream",
          "name": "stdout",
          "text": [
            "313/313 [==============================] - 1s 2ms/step - loss: 0.2675 - accuracy: 0.9247\n"
          ]
        },
        {
          "output_type": "execute_result",
          "data": {
            "text/plain": [
              "[0.2675148546695709, 0.9247000217437744]"
            ]
          },
          "metadata": {},
          "execution_count": 11
        }
      ]
    },
    {
      "cell_type": "code",
      "source": [
        "plt.matshow(X_test[0])"
      ],
      "metadata": {
        "id": "5dfPlCrwmQqK",
        "colab": {
          "base_uri": "https://localhost:8080/",
          "height": 454
        },
        "outputId": "8a3be1d8-44fa-4fde-82fe-9db44fab45ae"
      },
      "execution_count": 12,
      "outputs": [
        {
          "output_type": "execute_result",
          "data": {
            "text/plain": [
              "<matplotlib.image.AxesImage at 0x7bcf1b997160>"
            ]
          },
          "metadata": {},
          "execution_count": 12
        },
        {
          "output_type": "display_data",
          "data": {
            "text/plain": [
              "<Figure size 480x480 with 1 Axes>"
            ],
            "image/png": "[encoded data removed]"
          },
          "metadata": {}
        }
      ]
    },
    {
      "cell_type": "code",
      "source": [
        "y_predicted = model.predict(X_test_flattened)\n",
        "y_predicted[0]"
      ],
      "metadata": {
        "colab": {
          "base_uri": "https://localhost:8080/"
        },
        "id": "58yzGsqa2oTW",
        "outputId": "bb3f61a2-157a-4d5a-934b-ac16b3994617"
      },
      "execution_count": 13,
      "outputs": [
        {
          "output_type": "stream",
          "name": "stdout",
          "text": [
            "313/313 [==============================] - 1s 3ms/step\n"
          ]
        },
        {
          "output_type": "execute_result",
          "data": {
            "text/plain": [
              "array([3.3594050e-02, 2.2110815e-07, 3.3391472e-02, 9.3693691e-01,\n",
              "       1.9128277e-03, 9.6765235e-02, 9.1012731e-07, 9.9980736e-01,\n",
              "       9.1520652e-02, 5.3670835e-01], dtype=float32)"
            ]
          },
          "metadata": {},
          "execution_count": 13
        }
      ]
    },
    {
      "cell_type": "code",
      "source": [
        "np.argmax(y_predicted[0])"
      ],
      "metadata": {
        "colab": {
          "base_uri": "https://localhost:8080/"
        },
        "id": "Z3VyhOjV2xqz",
        "outputId": "931f1a4e-e0c1-48ae-d612-8c2ba48a258b"
      },
      "execution_count": 14,
      "outputs": [
        {
          "output_type": "execute_result",
          "data": {
            "text/plain": [
              "7"
            ]
          },
          "metadata": {},
          "execution_count": 14
        }
      ]
    },
    {
      "cell_type": "code",
      "source": [
        "y_test[:5]"
      ],
      "metadata": {
        "colab": {
          "base_uri": "https://localhost:8080/"
        },
        "id": "4JQy2ymv3GoF",
        "outputId": "9af6d416-28bf-43e1-de46-506173b3ecd6"
      },
      "execution_count": 15,
      "outputs": [
        {
          "output_type": "execute_result",
          "data": {
            "text/plain": [
              "array([7, 2, 1, 0, 4], dtype=uint8)"
            ]
          },
          "metadata": {},
          "execution_count": 15
        }
      ]
    },
    {
      "cell_type": "code",
      "source": [
        "#Creating ypredicted_labels for y_predicted as it should be same as y_test values to be used in confusion matrix func of tf.math\n",
        "y_predicted_labels = [np.argmax(i) for i in y_predicted]\n",
        "print(y_predicted_labels[:5])\n"
      ],
      "metadata": {
        "colab": {
          "base_uri": "https://localhost:8080/"
        },
        "id": "6MW3xbST4kA2",
        "outputId": "554e740b-a201-4fca-ec81-3a2b888ac6bd"
      },
      "execution_count": 16,
      "outputs": [
        {
          "output_type": "stream",
          "name": "stdout",
          "text": [
            "[7, 2, 1, 0, 4]\n"
          ]
        }
      ]
    },
    {
      "cell_type": "markdown",
      "source": [
        "## Checking Performance of model"
      ],
      "metadata": {
        "id": "s6mCAAQJ8ZJl"
      }
    },
    {
      "cell_type": "code",
      "source": [
        "conf_matrix = tf.math.confusion_matrix(labels = y_test, predictions = y_predicted_labels)\n",
        "conf_matrix"
      ],
      "metadata": {
        "colab": {
          "base_uri": "https://localhost:8080/"
        },
        "id": "2JMLGAU35SW9",
        "outputId": "45b60f0d-e459-4b3b-e59a-8b2363698a9f"
      },
      "execution_count": 17,
      "outputs": [
        {
          "output_type": "execute_result",
          "data": {
            "text/plain": [
              "<tf.Tensor: shape=(10, 10), dtype=int32, numpy=\n",
              "array([[ 965,    0,    0,    2,    0,    5,    4,    2,    2,    0],\n",
              "       [   0, 1115,    3,    2,    0,    1,    4,    2,    8,    0],\n",
              "       [  10,   11,  912,   18,    7,    4,   13,   12,   41,    4],\n",
              "       [   4,    0,   15,  919,    0,   23,    3,   15,   25,    6],\n",
              "       [   1,    1,    4,    1,  913,    0,   10,    7,    9,   36],\n",
              "       [  10,    3,    2,   31,   11,  766,   18,    8,   35,    8],\n",
              "       [  14,    3,    6,    1,    7,   10,  912,    2,    3,    0],\n",
              "       [   1,    5,   21,    4,    6,    0,    0,  967,    3,   21],\n",
              "       [   8,    9,    5,   21,    9,   18,   10,   15,  873,    6],\n",
              "       [  11,    7,    1,   10,   24,    6,    0,   37,    8,  905]],\n",
              "      dtype=int32)>"
            ]
          },
          "metadata": {},
          "execution_count": 17
        }
      ]
    },
    {
      "cell_type": "code",
      "source": [
        "# visualizing this confusion matrix in an appealing manner using seaborn library\n",
        "plt.figure(figsize=(10,7))\n",
        "sns.heatmap(conf_matrix, annot=True, fmt='d')\n",
        "plt.xlabel('Predicted')\n",
        "plt.ylabel('Truth')\n",
        "\n"
      ],
      "metadata": {
        "colab": {
          "base_uri": "https://localhost:8080/",
          "height": 636
        },
        "id": "_5ojrAyK5WGk",
        "outputId": "112fe71b-6e54-4540-ac3c-c94b74717e08"
      },
      "execution_count": 18,
      "outputs": [
        {
          "output_type": "execute_result",
          "data": {
            "text/plain": [
              "Text(95.72222222222221, 0.5, 'Truth')"
            ]
          },
          "metadata": {},
          "execution_count": 18
        },
        {
          "output_type": "display_data",
          "data": {
            "text/plain": [
              "<Figure size 1000x700 with 2 Axes>"
            ],
            "image/png": "[encoded data removed]"
          },
          "metadata": {}
        }
      ]
    },
    {
      "cell_type": "markdown",
      "source": [
        "Here the diagnol represents the number of times a value is predicted correctly. All other values except diagnol represents error. But confusion matrix is a great way to check the performance of the model."
      ],
      "metadata": {
        "id": "dsVyb91E65O2"
      }
    },
    {
      "cell_type": "markdown",
      "source": [
        "## Adding a hidden layer"
      ],
      "metadata": {
        "id": "PO9nLOs67eY0"
      }
    },
    {
      "cell_type": "code",
      "source": [
        "model = keras.Sequential([\n",
        "    keras.layers.Dense(100, input_shape = (784,), activation = 'relu'),\n",
        "    keras.layers.Dense(10, activation = 'sigmoid')\n",
        "])\n",
        "model.compile(\n",
        "    optimizer='adam',\n",
        "    loss='sparse_categorical_crossentropy',\n",
        "    metrics=['accuracy']\n",
        ")\n",
        "model.fit(X_train_flattened,y_train, epochs=5)"
      ],
      "metadata": {
        "colab": {
          "base_uri": "https://localhost:8080/"
        },
        "id": "nHyQZPjk7Wpb",
        "outputId": "0e316684-ac3e-4b92-b0bb-67a84f7687b5"
      },
      "execution_count": 19,
      "outputs": [
        {
          "output_type": "stream",
          "name": "stdout",
          "text": [
            "Epoch 1/5\n",
            "1875/1875 [==============================] - 6s 3ms/step - loss: 0.2627 - accuracy: 0.9260\n",
            "Epoch 2/5\n",
            "1875/1875 [==============================] - 9s 5ms/step - loss: 0.1160 - accuracy: 0.9657\n",
            "Epoch 3/5\n",
            "1875/1875 [==============================] - 9s 5ms/step - loss: 0.0830 - accuracy: 0.9750\n",
            "Epoch 4/5\n",
            "1875/1875 [==============================] - 8s 4ms/step - loss: 0.0637 - accuracy: 0.9807\n",
            "Epoch 5/5\n",
            "1875/1875 [==============================] - 7s 3ms/step - loss: 0.0503 - accuracy: 0.9840\n"
          ]
        },
        {
          "output_type": "execute_result",
          "data": {
            "text/plain": [
              "<keras.src.callbacks.History at 0x7bcf1b6e2260>"
            ]
          },
          "metadata": {},
          "execution_count": 19
        }
      ]
    },
    {
      "cell_type": "code",
      "source": [
        "model.evaluate(X_test_flattened, y_test)"
      ],
      "metadata": {
        "colab": {
          "base_uri": "https://localhost:8080/"
        },
        "id": "1_ihQIAb83R-",
        "outputId": "866f0de7-bf49-4bb4-9322-8b4369b3eafc"
      },
      "execution_count": 20,
      "outputs": [
        {
          "output_type": "stream",
          "name": "stdout",
          "text": [
            "313/313 [==============================] - 1s 2ms/step - loss: 0.0751 - accuracy: 0.9761\n"
          ]
        },
        {
          "output_type": "execute_result",
          "data": {
            "text/plain": [
              "[0.07509983330965042, 0.9761000275611877]"
            ]
          },
          "metadata": {},
          "execution_count": 20
        }
      ]
    },
    {
      "cell_type": "code",
      "source": [
        "y_predicted = model.predict(X_test_flattened)\n",
        "y_predicted_labels = [np.argmax(i) for i in y_predicted]\n",
        "conf_matrix = tf.math.confusion_matrix(labels = y_test, predictions = y_predicted_labels)\n",
        "plt.figure(figsize=(10,7))\n",
        "sns.heatmap(conf_matrix, annot=True, fmt='d')\n",
        "plt.xlabel('Predicted')\n",
        "plt.ylabel('Truth')"
      ],
      "metadata": {
        "colab": {
          "base_uri": "https://localhost:8080/",
          "height": 654
        },
        "id": "M5dvsqqa9ZM8",
        "outputId": "1f5a3578-8775-4338-94ba-197bd6349c1b"
      },
      "execution_count": 21,
      "outputs": [
        {
          "output_type": "stream",
          "name": "stdout",
          "text": [
            "313/313 [==============================] - 1s 2ms/step\n"
          ]
        },
        {
          "output_type": "execute_result",
          "data": {
            "text/plain": [
              "Text(95.72222222222221, 0.5, 'Truth')"
            ]
          },
          "metadata": {},
          "execution_count": 21
        },
        {
          "output_type": "display_data",
          "data": {
            "text/plain": [
              "<Figure size 1000x700 with 2 Axes>"
            ],
            "image/png": "[encoded data removed]"
          },
          "metadata": {}
        }
      ]
    },
    {
      "cell_type": "markdown",
      "source": [
        "Adam (Adaptive Moment Estimation):\n",
        "\n",
        "Adam is an adaptive learning rate optimizer that combines the advantages of both RMSprop and Momentum. It adapts the learning rates for each parameter and keeps track of both the first-order moment (the mean) and the second-order moment (the uncentered variance) of the gradients. Adam is known for its efficiency and is often a good choice for a wide range of tasks."
      ],
      "metadata": {
        "id": "SGwuoj3dairZ"
      }
    },
    {
      "cell_type": "code",
      "source": [
        "#If we do not want to flatten our data. Then we can keras inbuilt keras.layers.Flatten function before applying activation layers\n",
        "model = keras.Sequential([\n",
        "    keras.layers.Flatten(input_shape = (28,28)),\n",
        "    keras.layers.Dense(100, activation = 'relu'),\n",
        "    keras.layers.Dense(10, activation = 'sigmoid')\n",
        "])\n",
        "model.compile(\n",
        "    optimizer='adam',\n",
        "    loss='sparse_categorical_crossentropy',\n",
        "    metrics=['accuracy']\n",
        ")\n",
        "model.fit(X_train, y_train, epochs=5)\n"
      ],
      "metadata": {
        "colab": {
          "base_uri": "https://localhost:8080/"
        },
        "id": "oWg9W1Qr98uH",
        "outputId": "44e939f9-845f-454c-ef52-b4900887f83c"
      },
      "execution_count": 22,
      "outputs": [
        {
          "output_type": "stream",
          "name": "stdout",
          "text": [
            "Epoch 1/5\n",
            "1875/1875 [==============================] - 7s 4ms/step - loss: 0.2779 - accuracy: 0.9212\n",
            "Epoch 2/5\n",
            "1875/1875 [==============================] - 5s 3ms/step - loss: 0.1270 - accuracy: 0.9623\n",
            "Epoch 3/5\n",
            "1875/1875 [==============================] - 5s 3ms/step - loss: 0.0879 - accuracy: 0.9740\n",
            "Epoch 4/5\n",
            "1875/1875 [==============================] - 5s 3ms/step - loss: 0.0660 - accuracy: 0.9806\n",
            "Epoch 5/5\n",
            "1875/1875 [==============================] - 5s 3ms/step - loss: 0.0518 - accuracy: 0.9844\n"
          ]
        },
        {
          "output_type": "execute_result",
          "data": {
            "text/plain": [
              "<keras.src.callbacks.History at 0x7bcf1b367670>"
            ]
          },
          "metadata": {},
          "execution_count": 22
        }
      ]
    },
    {
      "cell_type": "code",
      "source": [
        "y_predicted = model.predict(X_test)\n",
        "y_predicted_labels = [np.argmax(i) for i in y_predicted]\n",
        "conf_matrix = tf.math.confusion_matrix(labels = y_test, predictions = y_predicted_labels)\n",
        "plt.figure(figsize=(10,7))\n",
        "sns.heatmap(conf_matrix, annot=True, fmt='d')\n",
        "plt.xlabel('Predicted')\n",
        "plt.ylabel('Truth')"
      ],
      "metadata": {
        "colab": {
          "base_uri": "https://localhost:8080/",
          "height": 654
        },
        "id": "-R2BPlW5BitG",
        "outputId": "b2cb1434-1165-43d0-d7f4-8acd784f3c31"
      },
      "execution_count": 25,
      "outputs": [
        {
          "output_type": "stream",
          "name": "stdout",
          "text": [
            "313/313 [==============================] - 1s 2ms/step\n"
          ]
        },
        {
          "output_type": "execute_result",
          "data": {
            "text/plain": [
              "Text(95.72222222222221, 0.5, 'Truth')"
            ]
          },
          "metadata": {},
          "execution_count": 25
        },
        {
          "output_type": "display_data",
          "data": {
            "text/plain": [
              "<Figure size 1000x700 with 2 Axes>"
            ],
            "image/png": "[encoded data removed]"
          },
          "metadata": {}
        }
      ]
    },
    {
      "cell_type": "markdown",
      "source": [
        "## Experimenting with different types of optimizers"
      ],
      "metadata": {
        "id": "x-APqAUFZLaC"
      }
    },
    {
      "cell_type": "markdown",
      "source": [
        "### Stochastic Gradient Descent (SGD):\n",
        "\n",
        "SGD is a basic and widely used optimizer. It updates model parameters using the gradient of the loss function with respect to the parameters. It's simple and computationally efficient but can have trouble converging in some cases."
      ],
      "metadata": {
        "id": "czpHNAiZaCgh"
      }
    },
    {
      "cell_type": "code",
      "source": [
        "\n",
        "model = keras.Sequential([\n",
        "    keras.layers.Flatten(input_shape = (28,28)),\n",
        "    keras.layers.Dense(100, activation = 'relu'),\n",
        "    keras.layers.Dense(10, activation = 'sigmoid')\n",
        "])\n",
        "model.compile(\n",
        "    optimizer='SGD',\n",
        "    loss='sparse_categorical_crossentropy',\n",
        "    metrics=['accuracy']\n",
        ")\n",
        "model.fit(X_train, y_train, epochs=5)"
      ],
      "metadata": {
        "colab": {
          "base_uri": "https://localhost:8080/"
        },
        "id": "ip0JCnI8Y_Oa",
        "outputId": "110d31e9-ac13-428c-fd4f-d2f54d5191bb"
      },
      "execution_count": 26,
      "outputs": [
        {
          "output_type": "stream",
          "name": "stdout",
          "text": [
            "Epoch 1/5\n",
            "1875/1875 [==============================] - 5s 2ms/step - loss: 0.6479 - accuracy: 0.8338\n",
            "Epoch 2/5\n",
            "1875/1875 [==============================] - 6s 3ms/step - loss: 0.3392 - accuracy: 0.9055\n",
            "Epoch 3/5\n",
            "1875/1875 [==============================] - 4s 2ms/step - loss: 0.2930 - accuracy: 0.9173\n",
            "Epoch 4/5\n",
            "1875/1875 [==============================] - 7s 4ms/step - loss: 0.2648 - accuracy: 0.9250\n",
            "Epoch 5/5\n",
            "1875/1875 [==============================] - 6s 3ms/step - loss: 0.2431 - accuracy: 0.9314\n"
          ]
        },
        {
          "output_type": "execute_result",
          "data": {
            "text/plain": [
              "<keras.src.callbacks.History at 0x7bcef8293460>"
            ]
          },
          "metadata": {},
          "execution_count": 26
        }
      ]
    },
    {
      "cell_type": "markdown",
      "source": [
        "### RMSprop (Root Mean Square Propagation):\n",
        "\n",
        "RMSprop is another adaptive learning rate optimizer that adjusts the learning rates for each parameter individually. It helps mitigate some of the issues with SGD by adapting the learning rates over time."
      ],
      "metadata": {
        "id": "KAHtKHNiaUTp"
      }
    },
    {
      "cell_type": "code",
      "source": [
        "\n",
        "model = keras.Sequential([\n",
        "    keras.layers.Flatten(input_shape = (28,28)),\n",
        "    keras.layers.Dense(100, activation = 'relu'),\n",
        "    keras.layers.Dense(10, activation = 'sigmoid')\n",
        "])\n",
        "model.compile(\n",
        "    optimizer='RMSprop',\n",
        "    loss='sparse_categorical_crossentropy',\n",
        "    metrics=['accuracy']\n",
        ")\n",
        "model.fit(X_train, y_train, epochs=5)"
      ],
      "metadata": {
        "colab": {
          "base_uri": "https://localhost:8080/"
        },
        "id": "nMglKTtuZVRD",
        "outputId": "d478c5de-2d0c-4d2e-83fe-080584804d0b"
      },
      "execution_count": 27,
      "outputs": [
        {
          "output_type": "stream",
          "name": "stdout",
          "text": [
            "Epoch 1/5\n",
            "1875/1875 [==============================] - 5s 2ms/step - loss: 0.2705 - accuracy: 0.9245\n",
            "Epoch 2/5\n",
            "1875/1875 [==============================] - 5s 3ms/step - loss: 0.1298 - accuracy: 0.9621\n",
            "Epoch 3/5\n",
            "1875/1875 [==============================] - 5s 3ms/step - loss: 0.0944 - accuracy: 0.9722\n",
            "Epoch 4/5\n",
            "1875/1875 [==============================] - 4s 2ms/step - loss: 0.0769 - accuracy: 0.9771\n",
            "Epoch 5/5\n",
            "1875/1875 [==============================] - 6s 3ms/step - loss: 0.0636 - accuracy: 0.9816\n"
          ]
        },
        {
          "output_type": "execute_result",
          "data": {
            "text/plain": [
              "<keras.src.callbacks.History at 0x7bcef8307760>"
            ]
          },
          "metadata": {},
          "execution_count": 27
        }
      ]
    },
    {
      "cell_type": "markdown",
      "source": [
        "### Adagrad (Adaptive Gradient Algorithm):\n",
        "\n",
        "Adagrad adapts the learning rate for each parameter based on the historical gradient information. It's particularly useful when dealing with sparse data, but it may have issues with convergence on some problems."
      ],
      "metadata": {
        "id": "fGQf-jCRapoS"
      }
    },
    {
      "cell_type": "code",
      "source": [
        "model = keras.Sequential([\n",
        "    keras.layers.Flatten(input_shape = (28,28)),\n",
        "    keras.layers.Dense(100, activation = 'relu'),\n",
        "    keras.layers.Dense(10, activation = 'sigmoid')\n",
        "])\n",
        "model.compile(\n",
        "    optimizer='Adagrad',\n",
        "    loss='sparse_categorical_crossentropy',\n",
        "    metrics=['accuracy']\n",
        ")\n",
        "model.fit(X_train, y_train, epochs=5)"
      ],
      "metadata": {
        "colab": {
          "base_uri": "https://localhost:8080/"
        },
        "id": "3xz5Q5QMaslH",
        "outputId": "d4c56167-e0ee-48c2-85b2-fc2473d0bc59"
      },
      "execution_count": 28,
      "outputs": [
        {
          "output_type": "stream",
          "name": "stdout",
          "text": [
            "Epoch 1/5\n",
            "1875/1875 [==============================] - 5s 3ms/step - loss: 1.2268 - accuracy: 0.7207\n",
            "Epoch 2/5\n",
            "1875/1875 [==============================] - 5s 2ms/step - loss: 0.6360 - accuracy: 0.8578\n",
            "Epoch 3/5\n",
            "1875/1875 [==============================] - 5s 3ms/step - loss: 0.5134 - accuracy: 0.8759\n",
            "Epoch 4/5\n",
            "1875/1875 [==============================] - 4s 2ms/step - loss: 0.4571 - accuracy: 0.8853\n",
            "Epoch 5/5\n",
            "1875/1875 [==============================] - 4s 2ms/step - loss: 0.4234 - accuracy: 0.8912\n"
          ]
        },
        {
          "output_type": "execute_result",
          "data": {
            "text/plain": [
              "<keras.src.callbacks.History at 0x7bcef82902e0>"
            ]
          },
          "metadata": {},
          "execution_count": 28
        }
      ]
    },
    {
      "cell_type": "markdown",
      "source": [
        "### Nadam (Nesterov-accelerated Adaptive Moment Estimation):\n",
        "\n",
        "Nadam combines the Nesterov Accelerated Gradient (NAG) and Adam techniques. It uses the advantages of both methods, which makes it suitable for many deep learning tasks."
      ],
      "metadata": {
        "id": "_EUQdhwAazax"
      }
    },
    {
      "cell_type": "code",
      "source": [
        "model = keras.Sequential([\n",
        "    keras.layers.Flatten(input_shape = (28,28)),\n",
        "    keras.layers.Dense(100, activation = 'relu'),\n",
        "    keras.layers.Dense(10, activation = 'sigmoid')\n",
        "])\n",
        "model.compile(\n",
        "    optimizer='Nadam',\n",
        "    loss='sparse_categorical_crossentropy',\n",
        "    metrics=['accuracy']\n",
        ")\n",
        "model.fit(X_train, y_train, epochs=5)"
      ],
      "metadata": {
        "colab": {
          "base_uri": "https://localhost:8080/"
        },
        "id": "nbzYREFqa6s5",
        "outputId": "eb2ae777-26b0-490f-f1c0-772847d566ae"
      },
      "execution_count": 29,
      "outputs": [
        {
          "output_type": "stream",
          "name": "stdout",
          "text": [
            "Epoch 1/5\n",
            "1875/1875 [==============================] - 7s 3ms/step - loss: 0.2755 - accuracy: 0.9223\n",
            "Epoch 2/5\n",
            "1875/1875 [==============================] - 7s 3ms/step - loss: 0.1248 - accuracy: 0.9639\n",
            "Epoch 3/5\n",
            "1875/1875 [==============================] - 7s 3ms/step - loss: 0.0881 - accuracy: 0.9745\n",
            "Epoch 4/5\n",
            "1875/1875 [==============================] - 5s 3ms/step - loss: 0.0666 - accuracy: 0.9798\n",
            "Epoch 5/5\n",
            "1875/1875 [==============================] - 6s 3ms/step - loss: 0.0535 - accuracy: 0.9829\n"
          ]
        },
        {
          "output_type": "execute_result",
          "data": {
            "text/plain": [
              "<keras.src.callbacks.History at 0x7bcef8306800>"
            ]
          },
          "metadata": {},
          "execution_count": 29
        }
      ]
    },
    {
      "cell_type": "markdown",
      "source": [
        "### AdaDelta:\n",
        "\n",
        "AdaDelta is another adaptive learning rate optimization algorithm that aims to improve upon Adagrad. It keeps a running average of both the past squared gradients and the past squared parameter updates to adapt the learning rates."
      ],
      "metadata": {
        "id": "bFeffkJabFyq"
      }
    },
    {
      "cell_type": "code",
      "source": [
        "model = keras.Sequential([\n",
        "    keras.layers.Flatten(input_shape = (28,28)),\n",
        "    keras.layers.Dense(100, activation = 'relu'),\n",
        "    keras.layers.Dense(10, activation = 'sigmoid')\n",
        "])\n",
        "model.compile(\n",
        "    optimizer='AdaDelta',\n",
        "    loss='sparse_categorical_crossentropy',\n",
        "    metrics=['accuracy']\n",
        ")\n",
        "model.fit(X_train, y_train, epochs=5)"
      ],
      "metadata": {
        "colab": {
          "base_uri": "https://localhost:8080/"
        },
        "id": "BH2wiARibReN",
        "outputId": "4d978180-4bdb-4346-a684-b5122046d72f"
      },
      "execution_count": 30,
      "outputs": [
        {
          "output_type": "stream",
          "name": "stdout",
          "text": [
            "Epoch 1/5\n",
            "1875/1875 [==============================] - 8s 4ms/step - loss: 2.2886 - accuracy: 0.1085\n",
            "Epoch 2/5\n",
            "1875/1875 [==============================] - 5s 3ms/step - loss: 2.1422 - accuracy: 0.2455\n",
            "Epoch 3/5\n",
            "1875/1875 [==============================] - 6s 3ms/step - loss: 2.0071 - accuracy: 0.4015\n",
            "Epoch 4/5\n",
            "1875/1875 [==============================] - 5s 3ms/step - loss: 1.8774 - accuracy: 0.5229\n",
            "Epoch 5/5\n",
            "1875/1875 [==============================] - 6s 3ms/step - loss: 1.7523 - accuracy: 0.6026\n"
          ]
        },
        {
          "output_type": "execute_result",
          "data": {
            "text/plain": [
              "<keras.src.callbacks.History at 0x7bcee6e76d70>"
            ]
          },
          "metadata": {},
          "execution_count": 30
        }
      ]
    },
    {
      "cell_type": "markdown",
      "source": [
        "### FTRL (Follow-the-Regularized-Leader):\n",
        "\n",
        "FTRL is an optimizer that is particularly well-suited for large-scale and online learning problems. It combines L1 and L2 regularization and is known for its efficiency in handling high-dimensional feature spaces."
      ],
      "metadata": {
        "id": "GciIqTZvbWC8"
      }
    },
    {
      "cell_type": "code",
      "source": [
        "model = keras.Sequential([\n",
        "    keras.layers.Flatten(input_shape = (28,28)),\n",
        "    keras.layers.Dense(100, activation = 'relu'),\n",
        "    keras.layers.Dense(10, activation = 'sigmoid')\n",
        "])\n",
        "model.compile(\n",
        "    optimizer='FTRL',\n",
        "    loss='sparse_categorical_crossentropy',\n",
        "    metrics=['accuracy']\n",
        ")\n",
        "model.fit(X_train, y_train, epochs=5)"
      ],
      "metadata": {
        "colab": {
          "base_uri": "https://localhost:8080/"
        },
        "id": "0hROEcbNbn_a",
        "outputId": "257d7088-fe2d-4eb3-b6b2-a4f2331d8e02"
      },
      "execution_count": 31,
      "outputs": [
        {
          "output_type": "stream",
          "name": "stdout",
          "text": [
            "Epoch 1/5\n",
            "1875/1875 [==============================] - 6s 3ms/step - loss: 2.3014 - accuracy: 0.1346\n",
            "Epoch 2/5\n",
            "1875/1875 [==============================] - 6s 3ms/step - loss: 2.2350 - accuracy: 0.2768\n",
            "Epoch 3/5\n",
            "1875/1875 [==============================] - 6s 3ms/step - loss: 1.8407 - accuracy: 0.4868\n",
            "Epoch 4/5\n",
            "1875/1875 [==============================] - 10s 5ms/step - loss: 1.3750 - accuracy: 0.6344\n",
            "Epoch 5/5\n",
            "1875/1875 [==============================] - 6s 3ms/step - loss: 1.1032 - accuracy: 0.6963\n"
          ]
        },
        {
          "output_type": "execute_result",
          "data": {
            "text/plain": [
              "<keras.src.callbacks.History at 0x7bcee6d851b0>"
            ]
          },
          "metadata": {},
          "execution_count": 31
        }
      ]
    },
    {
      "cell_type": "markdown",
      "source": [
        "Out of all these optimizers, the best performance is given by adam optimizer."
      ],
      "metadata": {
        "id": "jFwmiZIacDSi"
      }
    },
    {
      "cell_type": "markdown",
      "source": [
        "## Experimenting with different types of loss functions"
      ],
      "metadata": {
        "id": "vqhniOrefoVh"
      }
    },
    {
      "cell_type": "markdown",
      "source": [
        "### Sparse Categorical Cross-Entropy (Sparse CCE)\n",
        "\n",
        "This is a widely used loss function for multi-class classification when labels are represented as integers. It's suitable when each data point has a single correct class label. Sparse CCE calculates the cross-entropy between the predicted class probabilities and the true class labels, where the true labels are integers. In deep learning libraries like TensorFlow and Keras, you can use this loss function, and it's efficient when you have a large number of classes."
      ],
      "metadata": {
        "id": "iAlng48fflxZ"
      }
    },
    {
      "cell_type": "code",
      "source": [
        "model = keras.Sequential([\n",
        "    keras.layers.Flatten(input_shape = (28,28)),\n",
        "    keras.layers.Dense(100, activation = 'relu'),\n",
        "    keras.layers.Dense(10, activation = 'sigmoid')\n",
        "])\n",
        "model.compile(\n",
        "    optimizer='adam',\n",
        "    loss='sparse_categorical_crossentropy',\n",
        "    metrics=['accuracy']\n",
        ")\n",
        "model.fit(X_train, y_train, epochs=5)"
      ],
      "metadata": {
        "colab": {
          "base_uri": "https://localhost:8080/"
        },
        "id": "PwfKcKbFcRxO",
        "outputId": "236fbb2b-8a5f-44e1-8370-43bbe2fb6270"
      },
      "execution_count": 33,
      "outputs": [
        {
          "output_type": "stream",
          "name": "stdout",
          "text": [
            "Epoch 1/5\n",
            "1875/1875 [==============================] - 5s 3ms/step - loss: 0.2756 - accuracy: 0.9219\n",
            "Epoch 2/5\n",
            "1875/1875 [==============================] - 9s 5ms/step - loss: 0.1228 - accuracy: 0.9638\n",
            "Epoch 3/5\n",
            "1875/1875 [==============================] - 8s 4ms/step - loss: 0.0850 - accuracy: 0.9740\n",
            "Epoch 4/5\n",
            "1875/1875 [==============================] - 7s 4ms/step - loss: 0.0658 - accuracy: 0.9793\n",
            "Epoch 5/5\n",
            "1875/1875 [==============================] - 7s 4ms/step - loss: 0.0522 - accuracy: 0.9840\n"
          ]
        },
        {
          "output_type": "execute_result",
          "data": {
            "text/plain": [
              "<keras.src.callbacks.History at 0x7bcee64a24a0>"
            ]
          },
          "metadata": {},
          "execution_count": 33
        }
      ]
    },
    {
      "cell_type": "markdown",
      "source": [
        "### Kullback-Leibler Divergence (KL Divergence):\n",
        "\n",
        "KL Divergence is used when you want to measure the difference between the predicted probability distribution and the true probability distribution. It is often used in scenarios where you have soft labels."
      ],
      "metadata": {
        "id": "jhnnGBOsf0iD"
      }
    },
    {
      "cell_type": "code",
      "source": [
        "model = keras.Sequential([\n",
        "    keras.layers.Flatten(input_shape = (28,28)),\n",
        "    keras.layers.Dense(100, activation = 'relu'),\n",
        "    keras.layers.Dense(10, activation = 'sigmoid')\n",
        "])\n",
        "model.compile(\n",
        "    optimizer='adam',\n",
        "    loss='kl_divergence',\n",
        "    metrics=['accuracy']\n",
        ")\n",
        "model.fit(X_train, y_train, epochs=5)"
      ],
      "metadata": {
        "colab": {
          "base_uri": "https://localhost:8080/"
        },
        "id": "2uhffJ52fv9p",
        "outputId": "e32129c6-1cfc-4532-86dc-22b86c22d09c"
      },
      "execution_count": 36,
      "outputs": [
        {
          "output_type": "stream",
          "name": "stdout",
          "text": [
            "Epoch 1/5\n",
            "1875/1875 [==============================] - 8s 3ms/step - loss: 0.0226 - accuracy: 0.1142\n",
            "Epoch 2/5\n",
            "1875/1875 [==============================] - 6s 3ms/step - loss: 4.9387e-06 - accuracy: 0.1027\n",
            "Epoch 3/5\n",
            "1875/1875 [==============================] - 5s 3ms/step - loss: -9.4183e-08 - accuracy: 0.1003\n",
            "Epoch 4/5\n",
            "1875/1875 [==============================] - 5s 3ms/step - loss: -1.1207e-06 - accuracy: 0.0999\n",
            "Epoch 5/5\n",
            "1875/1875 [==============================] - 5s 3ms/step - loss: -1.4260e-06 - accuracy: 0.0993\n"
          ]
        },
        {
          "output_type": "execute_result",
          "data": {
            "text/plain": [
              "<keras.src.callbacks.History at 0x7bcee61badd0>"
            ]
          },
          "metadata": {},
          "execution_count": 36
        }
      ]
    },
    {
      "cell_type": "markdown",
      "source": [
        "### Hinge Loss (Multi-Class SVM Loss):\n",
        "\n",
        "Hinge loss is often used for Support Vector Machines (SVMs) and can be adapted for deep learning multi-class classification problems. It aims to maximize the margin between the correct class and the other classes."
      ],
      "metadata": {
        "id": "1QQXI2tJj5dq"
      }
    },
    {
      "cell_type": "code",
      "source": [
        "model = keras.Sequential([\n",
        "    keras.layers.Flatten(input_shape = (28,28)),\n",
        "    keras.layers.Dense(100, activation = 'relu'),\n",
        "    keras.layers.Dense(10, activation = 'sigmoid')\n",
        "])\n",
        "model.compile(\n",
        "    optimizer='adam',\n",
        "    loss='hinge',\n",
        "    metrics=['accuracy']\n",
        ")\n",
        "model.fit(X_train, y_train, epochs=5)"
      ],
      "metadata": {
        "colab": {
          "base_uri": "https://localhost:8080/"
        },
        "id": "08Samx0jgvtq",
        "outputId": "d3c636cc-8c53-424b-87b3-5eeedb65b4b5"
      },
      "execution_count": 37,
      "outputs": [
        {
          "output_type": "stream",
          "name": "stdout",
          "text": [
            "Epoch 1/5\n",
            "1875/1875 [==============================] - 7s 3ms/step - loss: 0.0992 - accuracy: 0.0692\n",
            "Epoch 2/5\n",
            "1875/1875 [==============================] - 5s 3ms/step - loss: 0.0987 - accuracy: 0.0824\n",
            "Epoch 3/5\n",
            "1875/1875 [==============================] - 6s 3ms/step - loss: 0.0987 - accuracy: 0.0891\n",
            "Epoch 4/5\n",
            "1875/1875 [==============================] - 5s 2ms/step - loss: 0.0987 - accuracy: 0.0926\n",
            "Epoch 5/5\n",
            "1875/1875 [==============================] - 5s 3ms/step - loss: 0.0987 - accuracy: 0.0949\n"
          ]
        },
        {
          "output_type": "execute_result",
          "data": {
            "text/plain": [
              "<keras.src.callbacks.History at 0x7bcee60da4a0>"
            ]
          },
          "metadata": {},
          "execution_count": 37
        }
      ]
    },
    {
      "cell_type": "markdown",
      "source": [
        "## Experimenting with different types of activation functions"
      ],
      "metadata": {
        "id": "auR9_Gk5kDwa"
      }
    },
    {
      "cell_type": "markdown",
      "source": [
        "### Activation Functions for the Hidden Layer:\n",
        "\n",
        "* Rectified Linear Unit (ReLU):\n",
        "\n",
        "ReLU is one of the most widely used activation functions for hidden layers. It is computationally efficient and helps with mitigating the vanishing gradient problem.\n",
        "\n",
        "* Leaky ReLU:\n",
        "\n",
        "Leaky ReLU is a variant of ReLU that allows a small gradient when the unit is not active. It can help with mitigating the dying ReLU problem.\n",
        "\n",
        "* Parametric ReLU (PReLU):\n",
        "\n",
        "PReLU is an extension of Leaky ReLU, where the slope of the negative part of the function is learned during training.\n",
        "\n",
        "* Exponential Linear Unit (ELU):\n",
        "\n",
        "ELU is another variant of ReLU that can help with vanishing gradient problems. It has an exponential slope for negative inputs.\n",
        "\n",
        "* Scaled Exponential Linear Unit (SELU):\n",
        "\n",
        "SELU is a self-normalizing activation function that can improve network performance. It relies on specific properties to maintain stable mean and variance during training.\n",
        "\n",
        "## Activation Functions for the Output Layer:\n",
        "\n",
        "* Softmax:\n",
        "\n",
        "Softmax is commonly used in the output layer for multi-class classification problems. It transforms the network's raw scores into a probability distribution over multiple classes, making it suitable for multi-class classification tasks.\n",
        "\n",
        "* Sigmoid:\n",
        "\n",
        "Sigmoid is useful for binary classification problems but can be adapted for multi-class problems by using one-vs-all or one-vs-one strategies. It provides class probabilities for each class independently.\n",
        "\n",
        "* Logistic Function:\n",
        "\n",
        "Similar to Sigmoid, the logistic function can be used for multi-class classification by applying one-vs-all or one-vs-one techniques.\n",
        "\n",
        "* Tanh (Hyperbolic Tangent):\n",
        "\n",
        "Tanh is a rescaled version of the logistic sigmoid function that maps input values to the range [-1, 1]. It can be used in the output layer for multi-class problems with suitable transformations.\n",
        "\n",
        "* Linear Activation Function:\n",
        "\n",
        "In some cases, especially with regression tasks or specialized architectures like autoencoders, a linear activation function in the output layer may be appropriate."
      ],
      "metadata": {
        "id": "H_Wt0oEEpECJ"
      }
    },
    {
      "cell_type": "code",
      "source": [
        "model = keras.Sequential([\n",
        "    keras.layers.Flatten(input_shape = (28,28)),\n",
        "    keras.layers.Dense(100, activation = 'relu'),\n",
        "    keras.layers.Dense(10, activation = 'Softmax')\n",
        "])\n",
        "model.compile(\n",
        "    optimizer='adam',\n",
        "    loss='sparse_categorical_crossentropy',\n",
        "    metrics=['accuracy']\n",
        ")\n",
        "model.fit(X_train, y_train, epochs=5)"
      ],
      "metadata": {
        "colab": {
          "base_uri": "https://localhost:8080/"
        },
        "id": "DVswndrUkzAs",
        "outputId": "b2ff1b2f-de82-494d-b62b-1a01785675fe"
      },
      "execution_count": 45,
      "outputs": [
        {
          "output_type": "stream",
          "name": "stdout",
          "text": [
            "Epoch 1/5\n",
            "1875/1875 [==============================] - 6s 3ms/step - loss: 0.2686 - accuracy: 0.9236\n",
            "Epoch 2/5\n",
            "1875/1875 [==============================] - 10s 5ms/step - loss: 0.1225 - accuracy: 0.9636\n",
            "Epoch 3/5\n",
            "1875/1875 [==============================] - 9s 5ms/step - loss: 0.0867 - accuracy: 0.9745\n",
            "Epoch 4/5\n",
            "1875/1875 [==============================] - 5s 2ms/step - loss: 0.0659 - accuracy: 0.9796\n",
            "Epoch 5/5\n",
            "1875/1875 [==============================] - 5s 3ms/step - loss: 0.0516 - accuracy: 0.9839\n"
          ]
        },
        {
          "output_type": "execute_result",
          "data": {
            "text/plain": [
              "<keras.src.callbacks.History at 0x7bcee6e74f10>"
            ]
          },
          "metadata": {},
          "execution_count": 45
        }
      ]
    },
    {
      "cell_type": "code",
      "source": [
        "model = keras.Sequential([\n",
        "    keras.layers.Flatten(input_shape = (28,28)),\n",
        "    keras.layers.Dense(100, activation = 'relu'),\n",
        "    keras.layers.Dense(10, activation = 'linear')\n",
        "])\n",
        "model.compile(\n",
        "    optimizer='adam',\n",
        "    loss='sparse_categorical_crossentropy',\n",
        "    metrics=['accuracy']\n",
        ")\n",
        "model.fit(X_train, y_train, epochs=5)"
      ],
      "metadata": {
        "colab": {
          "base_uri": "https://localhost:8080/"
        },
        "id": "S9I2dE5IlVTr",
        "outputId": "1f0574f7-02cb-47be-fc7c-5cc8102e5f6a"
      },
      "execution_count": 46,
      "outputs": [
        {
          "output_type": "stream",
          "name": "stdout",
          "text": [
            "Epoch 1/5\n",
            "1875/1875 [==============================] - 6s 3ms/step - loss: 2.3482 - accuracy: 0.2470\n",
            "Epoch 2/5\n",
            "1875/1875 [==============================] - 5s 3ms/step - loss: 2.3026 - accuracy: 0.2377\n",
            "Epoch 3/5\n",
            "1875/1875 [==============================] - 6s 3ms/step - loss: 2.3026 - accuracy: 0.2377\n",
            "Epoch 4/5\n",
            "1875/1875 [==============================] - 5s 3ms/step - loss: 2.3026 - accuracy: 0.2377\n",
            "Epoch 5/5\n",
            "1875/1875 [==============================] - 5s 3ms/step - loss: 2.3026 - accuracy: 0.2377\n"
          ]
        },
        {
          "output_type": "execute_result",
          "data": {
            "text/plain": [
              "<keras.src.callbacks.History at 0x7bcee6d85240>"
            ]
          },
          "metadata": {},
          "execution_count": 46
        }
      ]
    },
    {
      "cell_type": "code",
      "source": [
        "model = keras.Sequential([\n",
        "    keras.layers.Flatten(input_shape = (28,28)),\n",
        "    keras.layers.Dense(100, activation = 'relu'),\n",
        "    keras.layers.Dense(10, activation = 'tanh')\n",
        "])\n",
        "model.compile(\n",
        "    optimizer='adam',\n",
        "    loss='sparse_categorical_crossentropy',\n",
        "    metrics=['accuracy']\n",
        ")\n",
        "model.fit(X_train, y_train, epochs=5)"
      ],
      "metadata": {
        "colab": {
          "base_uri": "https://localhost:8080/"
        },
        "id": "8iB04Q6KlpXS",
        "outputId": "b5a59db1-7d14-4639-fd61-3e5ded247bb6"
      },
      "execution_count": 47,
      "outputs": [
        {
          "output_type": "stream",
          "name": "stdout",
          "text": [
            "Epoch 1/5\n",
            "1875/1875 [==============================] - 5s 3ms/step - loss: 2.2979 - accuracy: 0.5146\n",
            "Epoch 2/5\n",
            "1875/1875 [==============================] - 5s 3ms/step - loss: 2.2818 - accuracy: 0.3940\n",
            "Epoch 3/5\n",
            "1875/1875 [==============================] - 6s 3ms/step - loss: 2.2883 - accuracy: 0.2490\n",
            "Epoch 4/5\n",
            "1875/1875 [==============================] - 5s 3ms/step - loss: 2.3017 - accuracy: 0.2273\n",
            "Epoch 5/5\n",
            "1875/1875 [==============================] - 6s 3ms/step - loss: 2.3017 - accuracy: 0.2274\n"
          ]
        },
        {
          "output_type": "execute_result",
          "data": {
            "text/plain": [
              "<keras.src.callbacks.History at 0x7bceeb7e3490>"
            ]
          },
          "metadata": {},
          "execution_count": 47
        }
      ]
    },
    {
      "cell_type": "code",
      "source": [
        "model = keras.Sequential([\n",
        "    keras.layers.Flatten(input_shape = (28,28)),\n",
        "    keras.layers.Dense(100, activation = 'LeakyReLU'),\n",
        "    keras.layers.Dense(10, activation = 'sigmoid')\n",
        "])\n",
        "model.compile(\n",
        "    optimizer='adam',\n",
        "    loss='sparse_categorical_crossentropy',\n",
        "    metrics=['accuracy']\n",
        ")\n",
        "model.fit(X_train, y_train, epochs=5)"
      ],
      "metadata": {
        "colab": {
          "base_uri": "https://localhost:8080/"
        },
        "id": "2cNkZBJPm4zS",
        "outputId": "272d079f-92a6-4972-8446-cdc1388381b2"
      },
      "execution_count": 50,
      "outputs": [
        {
          "output_type": "stream",
          "name": "stdout",
          "text": [
            "Epoch 1/5\n",
            "1875/1875 [==============================] - 8s 4ms/step - loss: 0.3093 - accuracy: 0.9118\n",
            "Epoch 2/5\n",
            "1875/1875 [==============================] - 5s 3ms/step - loss: 0.1700 - accuracy: 0.9502\n",
            "Epoch 3/5\n",
            "1875/1875 [==============================] - 5s 3ms/step - loss: 0.1269 - accuracy: 0.9627\n",
            "Epoch 4/5\n",
            "1875/1875 [==============================] - 6s 3ms/step - loss: 0.1004 - accuracy: 0.9701\n",
            "Epoch 5/5\n",
            "1875/1875 [==============================] - 5s 3ms/step - loss: 0.0835 - accuracy: 0.9744\n"
          ]
        },
        {
          "output_type": "execute_result",
          "data": {
            "text/plain": [
              "<keras.src.callbacks.History at 0x7bceeb7e13f0>"
            ]
          },
          "metadata": {},
          "execution_count": 50
        }
      ]
    },
    {
      "cell_type": "code",
      "source": [
        "model = keras.Sequential([\n",
        "    keras.layers.Flatten(input_shape = (28,28)),\n",
        "    keras.layers.Dense(100, activation = 'PReLU'),\n",
        "    keras.layers.Dense(10, activation = 'sigmoid')\n",
        "])\n",
        "model.compile(\n",
        "    optimizer='adam',\n",
        "    loss='sparse_categorical_crossentropy',\n",
        "    metrics=['accuracy']\n",
        ")\n",
        "model.fit(X_train, y_train, epochs=5)"
      ],
      "metadata": {
        "colab": {
          "base_uri": "https://localhost:8080/"
        },
        "id": "0SCFJ51roHfL",
        "outputId": "248a69a0-4bdf-49af-a8f5-f974751b6b18"
      },
      "execution_count": 51,
      "outputs": [
        {
          "output_type": "stream",
          "name": "stdout",
          "text": [
            "Epoch 1/5\n",
            "1875/1875 [==============================] - 6s 3ms/step - loss: 0.2642 - accuracy: 0.9249\n",
            "Epoch 2/5\n",
            "1875/1875 [==============================] - 9s 5ms/step - loss: 0.1131 - accuracy: 0.9669\n",
            "Epoch 3/5\n",
            "1875/1875 [==============================] - 5s 3ms/step - loss: 0.0773 - accuracy: 0.9764\n",
            "Epoch 4/5\n",
            "1875/1875 [==============================] - 6s 3ms/step - loss: 0.0597 - accuracy: 0.9813\n",
            "Epoch 5/5\n",
            "1875/1875 [==============================] - 7s 4ms/step - loss: 0.0459 - accuracy: 0.9855\n"
          ]
        },
        {
          "output_type": "execute_result",
          "data": {
            "text/plain": [
              "<keras.src.callbacks.History at 0x7bceeb5f3340>"
            ]
          },
          "metadata": {},
          "execution_count": 51
        }
      ]
    },
    {
      "cell_type": "code",
      "source": [
        "model = keras.Sequential([\n",
        "    keras.layers.Flatten(input_shape = (28,28)),\n",
        "    keras.layers.Dense(100, activation = 'ELU'),\n",
        "    keras.layers.Dense(10, activation = 'sigmoid')\n",
        "])\n",
        "model.compile(\n",
        "    optimizer='adam',\n",
        "    loss='sparse_categorical_crossentropy',\n",
        "    metrics=['accuracy']\n",
        ")\n",
        "model.fit(X_train, y_train, epochs=5)"
      ],
      "metadata": {
        "colab": {
          "base_uri": "https://localhost:8080/"
        },
        "id": "4EcPl9CWoQ2C",
        "outputId": "f1a9a4ee-d917-4335-ea78-5eeed9ada801"
      },
      "execution_count": 52,
      "outputs": [
        {
          "output_type": "stream",
          "name": "stdout",
          "text": [
            "Epoch 1/5\n",
            "1875/1875 [==============================] - 5s 3ms/step - loss: 0.3068 - accuracy: 0.9114\n",
            "Epoch 2/5\n",
            "1875/1875 [==============================] - 7s 4ms/step - loss: 0.1497 - accuracy: 0.9567\n",
            "Epoch 3/5\n",
            "1875/1875 [==============================] - 7s 4ms/step - loss: 0.1012 - accuracy: 0.9698\n",
            "Epoch 4/5\n",
            "1875/1875 [==============================] - 6s 3ms/step - loss: 0.0754 - accuracy: 0.9771\n",
            "Epoch 5/5\n",
            "1875/1875 [==============================] - 5s 3ms/step - loss: 0.0590 - accuracy: 0.9815\n"
          ]
        },
        {
          "output_type": "execute_result",
          "data": {
            "text/plain": [
              "<keras.src.callbacks.History at 0x7bceeb31f250>"
            ]
          },
          "metadata": {},
          "execution_count": 52
        }
      ]
    },
    {
      "cell_type": "code",
      "source": [
        "model = keras.Sequential([\n",
        "    keras.layers.Flatten(input_shape = (28,28)),\n",
        "    keras.layers.Dense(100, activation = 'selu'),\n",
        "    keras.layers.Dense(10, activation = 'sigmoid')\n",
        "])\n",
        "model.compile(\n",
        "    optimizer='adam',\n",
        "    loss='sparse_categorical_crossentropy',\n",
        "    metrics=['accuracy']\n",
        ")\n",
        "model.fit(X_train, y_train, epochs=5)"
      ],
      "metadata": {
        "colab": {
          "base_uri": "https://localhost:8080/"
        },
        "id": "dw5IP3XSoaIr",
        "outputId": "568bbe6b-a22e-41ad-b113-89379bd36a8f"
      },
      "execution_count": 54,
      "outputs": [
        {
          "output_type": "stream",
          "name": "stdout",
          "text": [
            "Epoch 1/5\n",
            "1875/1875 [==============================] - 8s 4ms/step - loss: 0.3196 - accuracy: 0.9069\n",
            "Epoch 2/5\n",
            "1875/1875 [==============================] - 7s 4ms/step - loss: 0.1757 - accuracy: 0.9486\n",
            "Epoch 3/5\n",
            "1875/1875 [==============================] - 5s 3ms/step - loss: 0.1219 - accuracy: 0.9638\n",
            "Epoch 4/5\n",
            "1875/1875 [==============================] - 6s 3ms/step - loss: 0.0935 - accuracy: 0.9719\n",
            "Epoch 5/5\n",
            "1875/1875 [==============================] - 5s 3ms/step - loss: 0.0728 - accuracy: 0.9780\n"
          ]
        },
        {
          "output_type": "execute_result",
          "data": {
            "text/plain": [
              "<keras.src.callbacks.History at 0x7bceeb2254e0>"
            ]
          },
          "metadata": {},
          "execution_count": 54
        }
      ]
    }
  ]
}